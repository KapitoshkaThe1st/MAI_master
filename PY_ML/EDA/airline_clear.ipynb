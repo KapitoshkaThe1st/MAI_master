{
 "cells": [
  {
   "cell_type": "code",
   "execution_count": null,
   "metadata": {},
   "outputs": [],
   "source": [
    "import pandas as pd\n",
    "import matplotlib.pyplot as plt\n",
    "%matplotlib inline\n",
    "\n",
    "import seaborn as sns\n",
    "sns.set()\n",
    "import warnings\n",
    "warnings.filterwarnings(\"ignore\")\n",
    "\n",
    "import numpy as np\n",
    "import scipy.stats as ss\n",
    "\n",
    "from collections import Counter\n",
    "import math"
   ]
  },
  {
   "cell_type": "markdown",
   "metadata": {},
   "source": [
    "# Работа с данными (к лаб. 1)"
   ]
  },
  {
   "cell_type": "markdown",
   "metadata": {},
   "source": [
    "Загружаем датасет"
   ]
  },
  {
   "cell_type": "code",
   "execution_count": null,
   "metadata": {},
   "outputs": [],
   "source": [
    "train_df = pd.read_csv(\"train.csv\")\n",
    "test_df = pd.read_csv(\"test.csv\")\n",
    "n_train = train_df.shape[0]\n",
    "n_test = test_df.shape[0]\n",
    "print(f'{n_train=}')\n",
    "print(f'{n_test=}')\n",
    "df = train_df.append(test_df, ignore_index=True)\n",
    "df.head()"
   ]
  },
  {
   "cell_type": "markdown",
   "metadata": {},
   "source": [
    "Сразу отбрасываем ненужные столбцы с id записи потому что они не несут никакой полезной информации для определения будет ли удовлетворен клиент или нет"
   ]
  },
  {
   "cell_type": "code",
   "execution_count": null,
   "metadata": {},
   "outputs": [],
   "source": [
    "df = df.drop(['Unnamed: 0', 'id'], axis='columns')"
   ]
  },
  {
   "cell_type": "code",
   "execution_count": null,
   "metadata": {},
   "outputs": [],
   "source": [
    "df.info()"
   ]
  },
  {
   "cell_type": "markdown",
   "metadata": {},
   "source": [
    "В датасете представлено 5 категориальных признаков, и 18 численных"
   ]
  },
  {
   "cell_type": "code",
   "execution_count": null,
   "metadata": {},
   "outputs": [],
   "source": [
    "df.describe().T"
   ]
  },
  {
   "cell_type": "markdown",
   "metadata": {},
   "source": [
    "Смотрим есть ли колонки с уникальными значениями"
   ]
  },
  {
   "cell_type": "code",
   "execution_count": null,
   "metadata": {},
   "outputs": [],
   "source": [
    "print(f\"unique value columns: {[col for col in df.columns if df[col].nunique() <= 1]}\")"
   ]
  },
  {
   "cell_type": "markdown",
   "metadata": {},
   "source": [
    "Смотрим есть ли дубликаты в записях"
   ]
  },
  {
   "cell_type": "code",
   "execution_count": null,
   "metadata": {},
   "outputs": [],
   "source": [
    "df.duplicated().sum()"
   ]
  },
  {
   "cell_type": "markdown",
   "metadata": {},
   "source": [
    "Для каждой из колонок смотрим сколько в ней потеряных значений (NaN'ов)"
   ]
  },
  {
   "cell_type": "code",
   "execution_count": null,
   "metadata": {},
   "outputs": [],
   "source": [
    "# функция вернет датафрейм записями по каждму полю (общее число NaN'ов, процент NaN'ов от общего числа записей), для полей, у в которых есть хотя бы один NaN  \n",
    "def missing_stats(df):\n",
    "    missing = df.isna().sum().sort_values(ascending=False)\n",
    "    missing = pd.concat([missing, missing / len(df) * 100], axis=1, keys=['Missing values', 'Missing percent'])\n",
    "    return missing[missing['Missing values'] > 0.0]\n",
    "\n",
    "missing_stats(df)"
   ]
  },
  {
   "cell_type": "markdown",
   "metadata": {},
   "source": [
    "Пытаемся понять чем заменить пропущенные значения в колонке \"Arrival Delay in Minutes\". Для этого подсчитываем полетов без задержки прибытия"
   ]
  },
  {
   "cell_type": "code",
   "execution_count": null,
   "metadata": {},
   "outputs": [],
   "source": [
    "non_zero_arrival_delay_flights_count = (df[\"Arrival Delay in Minutes\"] > 0).sum()\n",
    "print(f'Non-zero arrival delay flights percent: {non_zero_arrival_delay_flights_count / len(df * 100)}')"
   ]
  },
  {
   "cell_type": "markdown",
   "metadata": {},
   "source": [
    "Видно, что подавляющее число полетов проходит без задержки прибытия, значит смело заменяем пропущенные значения нулем. Хотя, так как данных довольно много, можно было бы и отбросить \"бракованные\" записи"
   ]
  },
  {
   "cell_type": "code",
   "execution_count": null,
   "metadata": {},
   "outputs": [],
   "source": [
    "mode = df['Arrival Delay in Minutes'].mode()[0]\n",
    "df['Arrival Delay in Minutes'] = df['Arrival Delay in Minutes'].fillna(mode)\n",
    "\n",
    "# проверяем что все пропущенные значения теперь заполнены\n",
    "missing_stats(df)"
   ]
  },
  {
   "cell_type": "markdown",
   "metadata": {},
   "source": [
    "## Исследование данных"
   ]
  },
  {
   "cell_type": "markdown",
   "metadata": {},
   "source": [
    "### Исследование целевой переменной"
   ]
  },
  {
   "cell_type": "code",
   "execution_count": null,
   "metadata": {},
   "outputs": [],
   "source": [
    "sns.countplot(x='satisfaction', data=df)"
   ]
  },
  {
   "cell_type": "markdown",
   "metadata": {},
   "source": [
    "Видно, что недовольных или равнодушных клиентов больше, чем удовлетворенных. Однако дисбаланс классов небольшой."
   ]
  },
  {
   "cell_type": "markdown",
   "metadata": {},
   "source": [
    "### Числовые признаки"
   ]
  },
  {
   "cell_type": "code",
   "execution_count": null,
   "metadata": {},
   "outputs": [],
   "source": [
    "df_numerical = df.select_dtypes([np.number])\n",
    "df_numerical = pd.concat([df['satisfaction'].map({'neutral or dissatisfied' : 0, 'satisfied' : 1}), df_numerical], axis=1)\n",
    "df_numerical"
   ]
  },
  {
   "cell_type": "code",
   "execution_count": null,
   "metadata": {},
   "outputs": [],
   "source": [
    "df_numerical.hist(figsize=(15,20))\n",
    "plt.figure()"
   ]
  },
  {
   "cell_type": "markdown",
   "metadata": {},
   "source": [
    "- Возраст пассажииров, по всей видимости, имеет бимодальное распределение с пиками в районе 25 и 40 лет. Однако пасажиры возрасте от 40 до 60 лет преобладают.\n",
    "\n",
    "- Распределение расстояния перелета похоже на экспонециально, но нужно уточнять.\n",
    "\n",
    "- Задержки вылета и прибытия, похоже, в абсолютном большинстве случаев близки к нулю.\n",
    "\n",
    "- Величины, обозначающие уровень удовлетворенности клиента той или иной отдельной характеристикой имеют сходства. Почти у всех из них очень мало нулевых оценок, и самая распространенная оценка 4 балла. Эти величины, наверняка, нормально распределены с перекосом в большую сторону. Нужно уточнять."
   ]
  },
  {
   "cell_type": "markdown",
   "metadata": {},
   "source": [
    "### Зависимость целевой переменной от числовых признаков"
   ]
  },
  {
   "cell_type": "code",
   "execution_count": null,
   "metadata": {},
   "outputs": [],
   "source": [
    "sns.FacetGrid(df, hue='satisfaction', height=7).map(sns.distplot, 'Age').add_legend()"
   ]
  },
  {
   "cell_type": "markdown",
   "metadata": {},
   "source": [
    "Видно, что распределения по возрастам довольно сильно перекрываюся. Однако среди пассажиров с возрастом в диапазоне 8-40 больше недовольных, в диапазоне 40-60 довольных почти в 2 раза больше, чем недовольных, а в диапазоне 60-80 гораздо больше неудовлетворенных."
   ]
  },
  {
   "cell_type": "code",
   "execution_count": null,
   "metadata": {},
   "outputs": [],
   "source": [
    "sns.FacetGrid(df, hue='satisfaction', height=7).map(sns.distplot, 'Flight Distance').add_legend()"
   ]
  },
  {
   "cell_type": "markdown",
   "metadata": {},
   "source": [
    "Распределения сильно перекрываюся. Видно, что среди пассажиров, совершающих перелет на дистанцию примерно до 1200 км, но на дистанциях 1200-4000 км число довольных более чем вдвое превышает число недовольных"
   ]
  },
  {
   "cell_type": "code",
   "execution_count": null,
   "metadata": {},
   "outputs": [],
   "source": [
    "sns.FacetGrid(df, hue='satisfaction', height=7).map(sns.distplot, 'Inflight wifi service').add_legend()"
   ]
  },
  {
   "cell_type": "markdown",
   "metadata": {},
   "source": [
    "- Как ни странно, если оценка wi-fi'я не применима, видимо ввиду его отсутствия ?? (в таблице оценка = 0), то пассажир почти гарантировано останется доволен полетом\n",
    "- Пассажиры, поставившие 1, 2, или 3 гораздо чаще остаются недовольны и всем полетом в целом\n",
    "- Среди пассажиров, поставивших 4 за эту характеристику совсем немного больше удовлетворенных полетом в целом\n",
    "- Если пассажир поставил оценку 5 за эту характеристику, то он почти гарантированно удовлетворен полетом"
   ]
  },
  {
   "cell_type": "code",
   "execution_count": null,
   "metadata": {},
   "outputs": [],
   "source": [
    "sns.FacetGrid(df, hue='satisfaction', height=7).map(sns.distplot, 'Departure/Arrival time convenient').add_legend()"
   ]
  },
  {
   "cell_type": "markdown",
   "metadata": {},
   "source": [
    "Отдельно эта оценка почти не влияет на удовлетворенность клиента в целом, т.к. число довольных и недовольных почти равно для любого балла, разве что для 4-х неудовлетворенных слегка больше. Не очень информативный признак, вероятно можно отбросить ??"
   ]
  },
  {
   "cell_type": "code",
   "execution_count": null,
   "metadata": {},
   "outputs": [],
   "source": [
    "sns.FacetGrid(df, hue='satisfaction', height=7).map(sns.distplot, 'Ease of Online booking').add_legend()"
   ]
  },
  {
   "cell_type": "markdown",
   "metadata": {},
   "source": [
    "- Если оценка не применима, то число довольных пассажиров в 2 раза превышает число недовольных\n",
    "- Среди пассажиров, поставивших 1, немного больше недовольных\n",
    "- Пассажиры, поставивщие оценки 2, 3 в два раза чаще недовольны\n",
    "- Среди пассажиров, поставивших 4, немного больше довольных\n",
    "- Среди пассажиров поставивших 5 гораздо больше оставшихся довольными"
   ]
  },
  {
   "cell_type": "code",
   "execution_count": null,
   "metadata": {},
   "outputs": [],
   "source": [
    "sns.FacetGrid(df, hue='satisfaction', height=7).map(sns.distplot, 'Gate location').add_legend()"
   ]
  },
  {
   "cell_type": "markdown",
   "metadata": {},
   "source": [
    "- Число довольных и недовольных пассажиров, поставивших 0-2 примерно равно\n",
    "- Среди поставивших 3 или 4 заметно больше недовольных\n",
    "- Среди поставивших 5 больше довольных"
   ]
  },
  {
   "cell_type": "code",
   "execution_count": null,
   "metadata": {},
   "outputs": [],
   "source": [
    "sns.FacetGrid(df, hue='satisfaction', height=7).map(sns.distplot, 'Food and drink').add_legend()"
   ]
  },
  {
   "cell_type": "markdown",
   "metadata": {},
   "source": [
    "- Пассажир поставивший 1 с большой вероятностью останется недоволен полетом\n",
    "- Поставившие 2-3 скорее недовольны, чем довольны\n",
    "- Среди поставивших 4 или 5 заметно больше довольных"
   ]
  },
  {
   "cell_type": "code",
   "execution_count": null,
   "metadata": {},
   "outputs": [],
   "source": [
    "sns.FacetGrid(df, hue='satisfaction', height=7).map(sns.distplot, 'Online boarding').add_legend()"
   ]
  },
  {
   "cell_type": "markdown",
   "metadata": {},
   "source": [
    "- Если пассажир поставил оценку 1-2 за эту характеристуку, то он большой вероятностью останется недоволен\n",
    "- Пассажиры, поставившие 4, в 2 два раза чаще довольны\n",
    "- Пассажир, поставивший 5, с огромной вероятностью останется доволен полетом"
   ]
  },
  {
   "cell_type": "code",
   "execution_count": null,
   "metadata": {},
   "outputs": [],
   "source": [
    "sns.FacetGrid(df, hue='satisfaction', height=7).map(sns.distplot, 'Seat comfort').add_legend()"
   ]
  },
  {
   "cell_type": "markdown",
   "metadata": {},
   "source": [
    "- Пассажиры, поставившие 1-3 за эту характеристику в 2-х случаях из 3-х останутся недовольными\n",
    "- Напротив, пассажиры, поставившие 4-5 более, чем в 2 раза чаще оказываются довольны полетом"
   ]
  },
  {
   "cell_type": "code",
   "execution_count": null,
   "metadata": {},
   "outputs": [],
   "source": [
    "sns.FacetGrid(df, hue='satisfaction', height=7).map(sns.distplot, 'Inflight entertainment').add_legend()"
   ]
  },
  {
   "cell_type": "markdown",
   "metadata": {},
   "source": [
    "- Пассажиры, поставившие 1-3 за эту характеристику примерно в 2 раза чаще останутся недовольными\n",
    "- Пассажиры, поставившие 4-5 более, чем в 2 раза чаще оказываются довольны полетом"
   ]
  },
  {
   "cell_type": "code",
   "execution_count": null,
   "metadata": {},
   "outputs": [],
   "source": [
    "sns.FacetGrid(df, hue='satisfaction', height=7).map(sns.distplot, 'On-board service').add_legend()"
   ]
  },
  {
   "cell_type": "markdown",
   "metadata": {},
   "source": [
    "- Пассажиры, поставившие 1-3 за эту характеристику примерно в 2 раза чаще останутся недовольными\n",
    "- Пассажиры, поставившие 4-5 более, чем в 2 раза чаще оказываются довольны полетом"
   ]
  },
  {
   "cell_type": "code",
   "execution_count": null,
   "metadata": {},
   "outputs": [],
   "source": [
    "sns.FacetGrid(df, hue='satisfaction', height=7).map(sns.distplot, 'Leg room service').add_legend()"
   ]
  },
  {
   "cell_type": "markdown",
   "metadata": {},
   "source": [
    "- Пассажиры, поставившие 1-3 за эту характеристику примерно в 2 раза чаще останутся недовольными\n",
    "- Пассажиры, поставившие 4-5 более, чем в 2 раза чаще оказываются довольны полетом"
   ]
  },
  {
   "cell_type": "code",
   "execution_count": null,
   "metadata": {},
   "outputs": [],
   "source": [
    "sns.FacetGrid(df, hue='satisfaction', height=7).map(sns.distplot, 'Baggage handling').add_legend()"
   ]
  },
  {
   "cell_type": "markdown",
   "metadata": {},
   "source": [
    "- Пассажиры, поставившие 1-3 за эту характеристику примерно в 2 раза чаще останутся недовольными\n",
    "- Пассажиры, поставившие 4 более, немного чаще оказываются довольны полетом\n",
    "- Пассажиры, поставившие 5 более, чем в 2 раза чаще оказываются довольны полетом"
   ]
  },
  {
   "cell_type": "code",
   "execution_count": null,
   "metadata": {},
   "outputs": [],
   "source": [
    "sns.FacetGrid(df, hue='satisfaction', height=7).map(sns.distplot, 'Checkin service').add_legend()"
   ]
  },
  {
   "cell_type": "markdown",
   "metadata": {},
   "source": [
    "- Пассажиры, поставившие 1-2 за эту характеристику более чем в 2 раза чаще останутся недовольными\n",
    "- Пассажиры, поставившие 5 более, чем в 2 раза чаще оказываются довольны полетом"
   ]
  },
  {
   "cell_type": "code",
   "execution_count": null,
   "metadata": {},
   "outputs": [],
   "source": [
    "sns.FacetGrid(df, hue='satisfaction', height=7).map(sns.distplot, 'Inflight service').add_legend()"
   ]
  },
  {
   "cell_type": "markdown",
   "metadata": {},
   "source": [
    "- Пассажиры, поставившие 1-3 чаще остаются недовольными\n",
    "- Пассажиры, поставившие 4 или 5 более, чаще оказываются довольны"
   ]
  },
  {
   "cell_type": "code",
   "execution_count": null,
   "metadata": {},
   "outputs": [],
   "source": [
    "sns.FacetGrid(df, hue='satisfaction', height=7).map(sns.distplot, 'Cleanliness').add_legend()"
   ]
  },
  {
   "cell_type": "markdown",
   "metadata": {},
   "source": [
    "- Пассажиры, поставившие 1-3 чаще остаются недовольными\n",
    "- Пассажиры, поставившие 5 более, чаще оказываются довольны"
   ]
  },
  {
   "cell_type": "code",
   "execution_count": null,
   "metadata": {},
   "outputs": [],
   "source": [
    "sns.FacetGrid(df, hue='satisfaction', height=7, xlim=(0, 100)).map(sns.distplot, 'Arrival Delay in Minutes', bins=200).add_legend()\n",
    "sns.FacetGrid(df, hue='satisfaction', height=7, xlim=(0, 100)).map(sns.distplot, 'Departure Delay in Minutes', bins=200).add_legend()"
   ]
  },
  {
   "cell_type": "markdown",
   "metadata": {},
   "source": [
    "На графике задержки прибытия видно, что уже во втором и всех последующих бинах гистограммы значительно больше недовольных.\n",
    "На графике задержки отправки ситуация несколько мягче: в первых двух бинах большее довольных, а в последующих не такая большая разница между довольными и недовольными. Т.е. пассажиры, терпимее относятся к задержке отправки, чем к задержке прибытия, что вполне логчно. Значит задержка отправки для нас менее информативна, если отбрасывать из двух."
   ]
  },
  {
   "cell_type": "markdown",
   "metadata": {},
   "source": [
    "Также рискну предположить что \"переход\" в районе 1-го бакета гистограммы с удвлетвоенного на не удовлетворенного происхоит из-за самого факта задержки.\n",
    "Для проверки того построим гистограммы распределения удовлеторенных и неудовлетворенных пассажиров для данных с задержкой и без."
   ]
  },
  {
   "cell_type": "code",
   "execution_count": null,
   "metadata": {},
   "outputs": [],
   "source": [
    "zero_departure_delay = df[df['Departure Delay in Minutes'] == 0]\n",
    "non_zero_departure_delay = df[df['Departure Delay in Minutes'] > 0]\n",
    "zero_arrival_delay = df[df['Arrival Delay in Minutes'] == 0]\n",
    "non_zero_arrival_delay = df[df['Arrival Delay in Minutes'] > 0]\n",
    "\n",
    "fig, ax = plt.subplots(2, 2, sharey=True, figsize=(8, 8))\n",
    "fig.suptitle('Satisfaction with/without delays')\n",
    "fig.subplots_adjust(hspace = 0.3)\n",
    "sns.histplot(x='satisfaction', data=zero_departure_delay, ax=ax[0, 0])\n",
    "ax[0,0].set_title('Zero departure delay')\n",
    "sns.histplot(x='satisfaction', data=non_zero_departure_delay, ax=ax[0, 1])\n",
    "ax[0,1].set_title('Non-zero departure delay')\n",
    "sns.histplot(x='satisfaction', data=zero_arrival_delay, ax=ax[1, 0])\n",
    "ax[1,0].set_title('Zero arrival delay')\n",
    "sns.histplot(x='satisfaction', data=non_zero_arrival_delay, ax=ax[1, 1])\n",
    "ax[1,1].set_title('Non-zero arrival delay')"
   ]
  },
  {
   "cell_type": "markdown",
   "metadata": {},
   "source": [
    "- Видно, что среди рейсов без задержки отправки/прибытия удовлетворенных клиентов больше, чем среди рейсов с задержкой. \n",
    "- Кроме того распределения для задерки отправки и задержки прибытия почти одинаковы, что лишний раз свидетельствует о том, что одну из переменных можно отбросить."
   ]
  },
  {
   "cell_type": "code",
   "execution_count": null,
   "metadata": {},
   "outputs": [],
   "source": [
    "numerical_cols = list(df_numerical.dtypes[df_numerical.dtypes != 'object'].index)\n",
    "\n",
    "numerical_cols.remove('satisfaction')\n",
    "numerical_cols.insert(0, 'satisfaction')\n",
    "\n",
    "pp = sns.pairplot(df_numerical[numerical_cols], height=4)\n",
    "pp.fig.savefig('pairplot.png')"
   ]
  },
  {
   "cell_type": "markdown",
   "metadata": {},
   "source": [
    "- Видна явная линейная зависимость видна между задержкой вылета 'Departure Delay in Minutes' и задержкой прибытия 'Arrival Delay in Minutes'. Большее зависимостй не наблюдается.\n",
    "- Так же видны выбросы для задержкек вылета прибытия"
   ]
  },
  {
   "cell_type": "markdown",
   "metadata": {},
   "source": [
    "Cоберем статистику по количеству полетов с задержкой больше каждой величины кратной 100 со 100 до 1600"
   ]
  },
  {
   "cell_type": "code",
   "execution_count": null,
   "metadata": {},
   "outputs": [],
   "source": [
    "stats = []\n",
    "for i in range(1, 17):\n",
    "    min_delay = i * 100\n",
    "    count = (df['Arrival Delay in Minutes'] > i * 100).sum()\n",
    "    stats.append([min_delay, count, count / len(df) * 100])\n",
    "pd.DataFrame(stats, columns=['Min delay', 'Count', 'Percent'])"
   ]
  },
  {
   "cell_type": "markdown",
   "metadata": {},
   "source": [
    "Видно, что рейсы с задержками прибытия более чем на 400 минут составляют порядка менее десятой доли процента. Отбросим все что больше или равно 400 ?? считая выбросами."
   ]
  },
  {
   "cell_type": "code",
   "execution_count": null,
   "metadata": {},
   "outputs": [],
   "source": [
    "df = df[df['Arrival Delay in Minutes'] <= 400]\n",
    "df = df[df['Departure Delay in Minutes'] <= 400]"
   ]
  },
  {
   "cell_type": "markdown",
   "metadata": {},
   "source": [
    "Расчет корреляционной матрицы"
   ]
  },
  {
   "cell_type": "code",
   "execution_count": null,
   "metadata": {},
   "outputs": [],
   "source": [
    "corr_mat = df_numerical.corr()\n",
    "plt.subplots(figsize=(15,9))\n",
    "sns.heatmap(corr_mat[np.abs(corr_mat) >= 0.4], \n",
    "            cmap='RdBu_r',\n",
    "            vmax=1.0, vmin=-1.0,\n",
    "            linewidth=0.1,\n",
    "            annot=True,\n",
    "            annot_kws={\"size\":8})"
   ]
  },
  {
   "cell_type": "code",
   "execution_count": null,
   "metadata": {},
   "outputs": [],
   "source": [
    "row = corr_mat.iloc[0].abs()\n",
    "row = row.sort_values(axis='index', ascending=False)\n",
    "row[row > 0.3]"
   ]
  },
  {
   "cell_type": "markdown",
   "metadata": {},
   "source": [
    "Рассморим подробее корреляцию целевой перемнной от входных числовых. Видно, что целевая переменная 'satisfaction' имеет среднюю корреляцию с единственной независимой переменной 'Online-boarding', а также слабо коррелирована с еще 5-ю еременными: 'Inflight entertainment', 'Seat comfort', 'On-board service', 'Leg room service', 'Cleanliness'"
   ]
  },
  {
   "cell_type": "markdown",
   "metadata": {},
   "source": [
    "### Категориальные признаки"
   ]
  },
  {
   "cell_type": "markdown",
   "metadata": {},
   "source": [
    "Построим распределение категориальных признаков"
   ]
  },
  {
   "cell_type": "code",
   "execution_count": null,
   "metadata": {},
   "outputs": [],
   "source": [
    "categorical_cols = list(df.dtypes[df.dtypes == 'object'].index) \n",
    "categorical_cols.remove('satisfaction')\n",
    "\n",
    "fig, ax = plt.subplots(2, 2, figsize=(10, 10), sharey=True)\n",
    "for i, name in enumerate(categorical_cols):\n",
    "    df_plot = df.groupby(['satisfaction', name]).size().reset_index().pivot(columns='satisfaction', index=name, values=0)\n",
    "    p = df_plot.plot(kind='bar', stacked=True, ax=ax[i//2, i%2])\n",
    "    p.set_xticklabels(p.get_xticklabels(), rotation = 0)"
   ]
  },
  {
   "cell_type": "markdown",
   "metadata": {},
   "source": [
    "- Пассажиров мужского и женского рода примерно одинаковое число, кроме того, в обоих классах распределение довольных/недовольных примерно 45/55, похоже это не очень информативный признак\n",
    "- Лояльных клиентов значительно больше, чем нелояльных, среди лояльных половина довольны, остальные - нет, среди нелояльных значительно больше недовольных\n",
    "- Гораздо чаще совершаются деловые поездки, чем индивидуальные перелеты. Среди пассаижиров, совершающих деловую поездку немного больше довольых.\n",
    "Пассажиры, путешествущие \"для себя\" в абсолютном большинстве случаев оказываются недовольны перелетом\n",
    "- Пассажиров, летящих бизнес классом чуть-чуть больше, чем летящих в эконом классе. В клсс эко-плюс летает очень мало пассажиров. Причем довольных в бизнес-классе примерно в 3 раза больше. В эко и эко-плюс ситуация прямо противоположная -- там абсоютное большинство пассжиров недовоьны перелетом"
   ]
  },
  {
   "cell_type": "markdown",
   "metadata": {},
   "source": [
    "Рассморим теперь корреляцию целевой перемнной от входных категориалных"
   ]
  },
  {
   "cell_type": "code",
   "execution_count": null,
   "metadata": {},
   "outputs": [],
   "source": [
    "df_categorical = df.select_dtypes([object])\n",
    "df_categorical = df_categorical[['satisfaction', 'Gender', 'Customer Type', 'Type of Travel', 'Class']]"
   ]
  },
  {
   "cell_type": "markdown",
   "metadata": {},
   "source": [
    "Для категориальных переменных сущестут аналог корреляции -- Cramér's V,\n",
    "а так же коэффицент неопределенности Theil's U, показывающий насколько хорошо мы можем предсказать одну переменную, учитывая другую.\n",
    "\n",
    "- [Суть](https://towardsdatascience.com/the-search-for-categorical-correlation-a1cf7f1888c9)\n",
    "- [Реализация Cramér's V](https://stackoverflow.com/questions/46498455/categorical-features-correlation/46498792#46498792)\n",
    "- [Реализация Theil's U](https://stackoverflow.com/questions/54931514/theils-u-1-theils-u-2-forecast-coefficient-formula-in-python)"
   ]
  },
  {
   "cell_type": "code",
   "execution_count": null,
   "metadata": {},
   "outputs": [],
   "source": [
    "def cramers_v(x, y):\n",
    "    confusion_matrix = pd.crosstab(x,y)\n",
    "    chi2 = ss.chi2_contingency(confusion_matrix)[0]\n",
    "    n = confusion_matrix.sum().sum()\n",
    "    phi2 = chi2/n\n",
    "    r,k = confusion_matrix.shape\n",
    "    phi2corr = max(0, phi2-((k-1)*(r-1))/(n-1))\n",
    "    rcorr = r-((r-1)**2)/(n-1)\n",
    "    kcorr = k-((k-1)**2)/(n-1)\n",
    "    return np.sqrt(phi2corr/min((kcorr-1),(rcorr-1)))\n",
    "\n",
    "def conditional_entropy(x,y):\n",
    "    y_counter = Counter(y)\n",
    "    xy_counter = Counter(list(zip(x,y)))\n",
    "    total_occurrences = sum(y_counter.values())\n",
    "    entropy = 0\n",
    "    for xy in xy_counter.keys():\n",
    "        p_xy = xy_counter[xy] / total_occurrences\n",
    "        p_y = y_counter[xy[1]] / total_occurrences\n",
    "        entropy += p_xy * math.log(p_y/p_xy)\n",
    "    return entropy\n",
    "\n",
    "def theils_u(x, y):\n",
    "    s_xy = conditional_entropy(x,y)\n",
    "    x_counter = Counter(x)\n",
    "    total_occurrences = sum(x_counter.values())\n",
    "    p_x = list(map(lambda n: n/total_occurrences, x_counter.values()))\n",
    "    s_x = ss.entropy(p_x)\n",
    "    if s_x == 0:\n",
    "        return 1\n",
    "    else:\n",
    "        return (s_x - s_xy) / s_x\n",
    "\n",
    "def apply(df, f):\n",
    "    n = df.shape[1]\n",
    "    mat = np.zeros((n, n))\n",
    "    for i in range(n):\n",
    "        for j in range(n):\n",
    "            mat[i][j] = f(df[df.columns[i]], df[df.columns[j]])\n",
    "    ndf = pd.DataFrame(mat, index=df.columns, columns=df.columns)\n",
    "    return ndf"
   ]
  },
  {
   "cell_type": "markdown",
   "metadata": {},
   "source": [
    "Расчитаем \"корреляционную\" матрицу для категориальных признаков"
   ]
  },
  {
   "cell_type": "code",
   "execution_count": null,
   "metadata": {},
   "outputs": [],
   "source": [
    "cramers_v_mat = apply(df_categorical[:df.shape[0]], cramers_v)\n",
    "\n",
    "corr_mat = df_numerical.corr()\n",
    "plt.subplots(figsize=(9,5))\n",
    "sns.heatmap(cramers_v_mat[(cramers_v_mat >= 0.4) | (cramers_v_mat < -0.4)], \n",
    "            cmap='RdBu_r',\n",
    "            vmax=1.0, vmin=-1.0,\n",
    "            linewidth=0.1,\n",
    "            annot=True,\n",
    "            annot_kws={\"size\":8})"
   ]
  },
  {
   "cell_type": "code",
   "execution_count": null,
   "metadata": {},
   "outputs": [],
   "source": [
    "row = cramers_v_mat.iloc[0]\n",
    "row.sort_values(axis='index', ascending=False).head()"
   ]
  },
  {
   "cell_type": "markdown",
   "metadata": {},
   "source": [
    "Рассморим подробее корреляцию целевой перемнной от входных категориальных. Видно, что целевая переменная 'satisfaction' имеет среднюю корреляцию с единственной независимой переменной 'Class' и 'Type of Travel', а также довольно слабо коррелирована переменной с 'Customer Type'"
   ]
  },
  {
   "cell_type": "markdown",
   "metadata": {},
   "source": [
    "Расчитаем коэффиценты неопределенности"
   ]
  },
  {
   "cell_type": "code",
   "execution_count": null,
   "metadata": {},
   "outputs": [],
   "source": [
    "theils_u_mat = apply(df_categorical, theils_u)\n",
    "\n",
    "f, ax = plt.subplots(figsize=(12, 9))\n",
    "sns.heatmap(theils_u_mat, square=True, annot=True, vmax=1.0, vmin=-1.0, cmap='RdBu_r', annot_kws={\"size\":8})"
   ]
  },
  {
   "cell_type": "markdown",
   "metadata": {},
   "source": [
    "По исследованию коэффициентов неопределенности нельзя отметить сильного влияния категориальных переменных друг на друга.\n",
    "Итого, судя по всему, все категориальные переменные достаточно (линейно) независимы друг от друга."
   ]
  },
  {
   "cell_type": "markdown",
   "metadata": {},
   "source": [
    "- Возможно стоит сгенерировать такие признаки как \"общее удовлетворение сервисом на борту\", \"общее удовлетворение сервисом на онлайн\" и \"общее удовлетворение сервисом в аэропорту\" как среднее касающихся этих признаков ценок.\n",
    "- Также возможно стот добавить признак-флаг, говорящий была ли хоть какая-нибудь задержка прибытия"
   ]
  },
  {
   "cell_type": "code",
   "execution_count": null,
   "metadata": {},
   "outputs": [],
   "source": [
    "df['Overall Satisfaction on board'] = 0.125 * (df['Inflight wifi service'] + df['Food and drink'] + df['Seat comfort'] + df['Inflight entertainment'] + df['On-board service'] + df['Leg room service'] +  df['Inflight service'] +  df['Cleanliness'])\n",
    "df['Overall Satisfaction online'] = 0.5 * (df['Online boarding'] + df['Ease of Online booking'])\n",
    "df['Overall Satisfaction airport'] = 1/3 * (df['Gate location'] + df['Baggage handling'] + df['Checkin service'])\n",
    "\n",
    "df['Arrival delayed'] = (df['Arrival Delay in Minutes'] > 0).astype('int')"
   ]
  },
  {
   "cell_type": "markdown",
   "metadata": {},
   "source": [
    "Т.о. наиболее информатиыными признаками будут:\n",
    "- 'Class', 'Type of Travel' -- категориальные;\n",
    "- 'Online boarding', 'Inflight entertainment', 'Seat comfort', 'On-board service', 'Leg room service', 'Cleanliness', 'Arrival delayed' -- числовые\n",
    "\n",
    "Пока так, дальше методом проб и ошибок по резульатам обучения моделей"
   ]
  },
  {
   "cell_type": "markdown",
   "metadata": {},
   "source": [
    "## Преобразование данных"
   ]
  },
  {
   "cell_type": "markdown",
   "metadata": {},
   "source": [
    "Проверим имеют ли числовые переменные перекос"
   ]
  },
  {
   "cell_type": "code",
   "execution_count": null,
   "metadata": {},
   "outputs": [],
   "source": [
    "numeric_feats = df.dtypes[df.dtypes != \"object\"].index\n",
    "skewed_feats = df[numeric_feats].apply(lambda x: ss.skew(x.dropna())).sort_values(ascending=False)\n",
    "print(\"\\nПерекос в численных признаках: \\n\")\n",
    "skewness = pd.DataFrame({'Skew' :skewed_feats})\n",
    "skewness"
   ]
  },
  {
   "cell_type": "markdown",
   "metadata": {},
   "source": [
    "Несколько признаков имеют значительный перекос, скорректируем его с помощью преобразования Бокса-Кокса"
   ]
  },
  {
   "cell_type": "code",
   "execution_count": null,
   "metadata": {},
   "outputs": [],
   "source": [
    "skewness = skewness[abs(skewness) > 0.75]\n",
    "print(\"There are {} skewed numerical features to Box Cox transform\".format(skewness.shape[0]))\n",
    "\n",
    "from scipy.special import boxcox1p\n",
    "skewed_features = skewness.index\n",
    "lam = 0.15\n",
    "for feat in skewed_features:\n",
    "    df[feat] = boxcox1p(df[feat], lam)\n",
    "df"
   ]
  },
  {
   "cell_type": "markdown",
   "metadata": {},
   "source": [
    "Также перед обучением моделей необходимо нормализовать числовые данные, а категориальные переменные заменить на бинарные признаки при помощи One hot encoding"
   ]
  },
  {
   "cell_type": "code",
   "execution_count": null,
   "metadata": {},
   "outputs": [],
   "source": [
    "from sklearn import preprocessing\n",
    "\n",
    "numerical_col = ['Online boarding', 'Inflight entertainment', 'Seat comfort', 'On-board service', 'Leg room service', 'Cleanliness', 'Arrival delayed']\n",
    "categorical_col = ['Class', 'Type of Travel']\n",
    "\n",
    "scaler = preprocessing.StandardScaler().fit(df[numerical_col])\n",
    "\n",
    "t = scaler.transform(df[numerical_col])\n",
    "\n",
    "y = df['satisfaction'].map({'neutral or dissatisfied' : 0, 'satisfied' : 1})\n",
    "categorical_X = pd.get_dummies(df[categorical_col])\n",
    "numerical_X = pd.DataFrame(t, columns=numerical_col, index=categorical_X.index)\n",
    "\n",
    "X = pd.concat([categorical_X, numerical_X], axis=1)\n",
    "\n",
    "train_slice = slice(0, n_train)\n",
    "test_slice = slice(n_train, n_train + n_test)\n",
    "\n",
    "x_train = X[train_slice].reset_index()\n",
    "y_train = y[train_slice].reset_index()\n",
    "\n",
    "x_test = X[test_slice].reset_index()\n",
    "y_test = y[test_slice].reset_index()"
   ]
  }
 ],
 "metadata": {
  "kernelspec": {
   "display_name": "Python 3",
   "language": "python",
   "name": "python3"
  },
  "language_info": {
   "codemirror_mode": {
    "name": "ipython",
    "version": 3
   },
   "file_extension": ".py",
   "mimetype": "text/x-python",
   "name": "python",
   "nbconvert_exporter": "python",
   "pygments_lexer": "ipython3",
   "version": "3.8.8"
  }
 },
 "nbformat": 4,
 "nbformat_minor": 4
}
