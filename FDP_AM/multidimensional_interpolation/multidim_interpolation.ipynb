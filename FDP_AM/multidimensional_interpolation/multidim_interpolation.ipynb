{
 "cells": [
  {
   "cell_type": "code",
   "execution_count": 1,
   "metadata": {},
   "outputs": [],
   "source": [
    "import numpy as np\n",
    "import matplotlib.pyplot as plt\n",
    "%matplotlib inline\n",
    "\n",
    "import random"
   ]
  },
  {
   "cell_type": "code",
   "execution_count": 2,
   "metadata": {},
   "outputs": [],
   "source": [
    "class Interpolator:\n",
    "    def __init__(self, f, dim, a, b, p):\n",
    "        self.dim = dim\n",
    "        self.a = a\n",
    "        self.h = [(bi - ai) / p for ai, bi in zip(a, b)]\n",
    "        self.p = p\n",
    "        self.g = dict()\n",
    "        self.__build_g(f, ())\n",
    "\n",
    "    def __build_g(self, f, i):\n",
    "        if len(i) == self.dim:\n",
    "            v = [self.a[j] + i[j] * self.h[j] for j in range(self.dim)]\n",
    "            self.g[i] = f(v)\n",
    "            return\n",
    "\n",
    "        for j in range(self.p):\n",
    "            self.__build_g(f, i + (j, ))\n",
    "\n",
    "    def __lij(self, x, i, j):\n",
    "        prod = 1\n",
    "        for k in range(self.p):\n",
    "            if k != i:\n",
    "                prod *= (((x[j] - self.a[j]) / self.h[j]) - k) / (i - k)\n",
    "        return prod\n",
    "\n",
    "    def __eval(self, x, i = ()):\n",
    "        k = len(i)\n",
    "        if k == self.dim:\n",
    "            return self.g[i]\n",
    "        \n",
    "        s = 0\n",
    "        for j in range(self.p):\n",
    "            new_i = i + (j,)\n",
    "            s += self.__eval(x, new_i) * self.__lij(x, new_i[k], k)\n",
    "        \n",
    "        return s\n",
    "\n",
    "    def __call__(self, x):\n",
    "        return self.__eval(x)"
   ]
  },
  {
   "cell_type": "code",
   "execution_count": 3,
   "metadata": {},
   "outputs": [],
   "source": [
    "from IPython.display import HTML, display\n",
    "import tabulate\n",
    "\n",
    "def display_table(table, headers, caption):\n",
    "    display(HTML(tabulate.tabulate(table, headers=headers, tablefmt='html',) \\\n",
    "        .replace('<table>\\n', f'<table>\\n<caption>{caption}</caption>\\n')))"
   ]
  },
  {
   "cell_type": "code",
   "execution_count": 4,
   "metadata": {},
   "outputs": [
    {
     "data": {
      "text/html": [
       "<table>\n",
       "<caption>Зависимость ошибки интерполяции от числа точек сетки</caption>\n",
       "<thead>\n",
       "<tr><th>p        </th><th style=\"text-align: right;\">      1</th><th style=\"text-align: right;\">      2</th><th style=\"text-align: right;\">      3</th><th style=\"text-align: right;\">       4</th><th style=\"text-align: right;\">       5</th><th style=\"text-align: right;\">        6</th><th style=\"text-align: right;\">        7</th><th style=\"text-align: right;\">         8</th><th style=\"text-align: right;\">          9</th><th style=\"text-align: right;\">        10</th><th style=\"text-align: right;\">         11</th><th style=\"text-align: right;\">         12</th><th style=\"text-align: right;\">         13</th><th style=\"text-align: right;\">         14</th><th style=\"text-align: right;\">         15</th></tr>\n",
       "</thead>\n",
       "<tbody>\n",
       "<tr><td>max error</td><td style=\"text-align: right;\">2.90116</td><td style=\"text-align: right;\">4.27932</td><td style=\"text-align: right;\">2.04289</td><td style=\"text-align: right;\">0.956198</td><td style=\"text-align: right;\">0.296927</td><td style=\"text-align: right;\">0.0692852</td><td style=\"text-align: right;\">0.0158809</td><td style=\"text-align: right;\">0.00317623</td><td style=\"text-align: right;\">0.000544981</td><td style=\"text-align: right;\">7.1771e-05</td><td style=\"text-align: right;\">1.01776e-05</td><td style=\"text-align: right;\">8.64815e-07</td><td style=\"text-align: right;\">1.77345e-07</td><td style=\"text-align: right;\">9.02144e-09</td><td style=\"text-align: right;\">7.62442e-10</td></tr>\n",
       "</tbody>\n",
       "</table>"
      ],
      "text/plain": [
       "<IPython.core.display.HTML object>"
      ]
     },
     "metadata": {},
     "output_type": "display_data"
    },
    {
     "data": {
      "text/plain": [
       "[<matplotlib.lines.Line2D at 0x7f67bf9d6cd0>]"
      ]
     },
     "execution_count": 4,
     "metadata": {},
     "output_type": "execute_result"
    },
    {
     "data": {
      "image/png": "[encoded data removed]",
      "text/plain": [
       "<Figure size 720x504 with 1 Axes>"
      ]
     },
     "metadata": {
      "needs_background": "light"
     },
     "output_type": "display_data"
    }
   ],
   "source": [
    "dim = 3\n",
    "\n",
    "def f(v):\n",
    "\tx = v[0]\n",
    "\ty = v[1]\n",
    "\tz = v[2]\n",
    "\treturn np.sin(4.0 * x) + np.cos(4.0 * y) + np.sin(4.0 * z)\n",
    "\n",
    "a = [0] * dim\n",
    "b = [1] * dim\n",
    "\n",
    "max_p = 15\n",
    "ps = list(range(1, max_p+1))\n",
    "\n",
    "headers = ['p'] + ps\n",
    "table = ['max error']\n",
    "\n",
    "n_samples = 100\n",
    "random.seed(1000)\n",
    "\n",
    "for p in ps:\n",
    "    interpolator = Interpolator(f, dim, a, b, p)\n",
    "    max_err = 0\n",
    "    for _ in range(n_samples):\n",
    "        x = [random.random() for _ in range(dim)]\n",
    "\n",
    "        ref = f(x)\n",
    "        actual = interpolator(x)\n",
    "\n",
    "        err = abs(ref - actual)\n",
    "\n",
    "        if err > max_err:\n",
    "            max_err = err\n",
    "\n",
    "    table.append(max_err)\n",
    "\n",
    "display_table([table], headers, 'Зависимость ошибки интерполяции от числа точек сетки')\n",
    "\n",
    "fig, ax = plt.subplots(figsize=(10, 7))\n",
    "ax.plot(ps, table[1:], 'r')\n"
   ]
  },
  {
   "cell_type": "markdown",
   "metadata": {},
   "source": [
    "Ошибка \"скачет\", наверное, потому что даже меньшее число точек сетки может быть расположено более удачно (попадая или не попадая в волну) т.к. функция периодическая с довольно большой частотой. И, в таком случае, при небольшом числе точек сетки, а значит и при небольшой степени многочлена, функцию нельзя приблизить с хорошей точностью."
   ]
  }
 ],
 "metadata": {
  "interpreter": {
   "hash": "d9a8acb4f733d3596df9f6fac9daff15e014d11794ebc65488d1c191c94698fd"
  },
  "kernelspec": {
   "display_name": "Python 3.8.8 64-bit ('base': conda)",
   "language": "python",
   "name": "python3"
  },
  "language_info": {
   "codemirror_mode": {
    "name": "ipython",
    "version": 3
   },
   "file_extension": ".py",
   "mimetype": "text/x-python",
   "name": "python",
   "nbconvert_exporter": "python",
   "pygments_lexer": "ipython3",
   "version": "3.8.8"
  },
  "orig_nbformat": 4
 },
 "nbformat": 4,
 "nbformat_minor": 2
}
